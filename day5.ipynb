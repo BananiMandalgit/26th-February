{
 "cells": [
  {
   "cell_type": "code",
   "execution_count": 13,
   "metadata": {},
   "outputs": [
    {
     "name": "stdout",
     "output_type": "stream",
     "text": [
      "sum is:  10\n"
     ]
    }
   ],
   "source": [
    "#Sum using recursion\n",
    "def sum(n):\n",
    "    if (n==1):\n",
    "        return 1\n",
    "    else:\n",
    "        return(n+(sum(n-1)))\n",
    "t=int(input(\"Enter a number: \"))\n",
    "i=sum(t)\n",
    "print(\"sum is: \",i)\n",
    "    \n",
    "\n",
    "    "
   ]
  },
  {
   "cell_type": "code",
   "execution_count": 18,
   "metadata": {},
   "outputs": [
    {
     "name": "stdout",
     "output_type": "stream",
     "text": [
      "65\n"
     ]
    }
   ],
   "source": [
    "#lambda\n",
    "s=lambda a,b:a+b\n",
    "r=s(45,20)\n",
    "print(r)"
   ]
  },
  {
   "cell_type": "code",
   "execution_count": null,
   "metadata": {},
   "outputs": [
    {
     "name": "stdout",
     "output_type": "stream",
     "text": [
      "Enter two numbers:\n",
      "Greater number is  52\n"
     ]
    }
   ],
   "source": [
    "#lambda condition\n",
    "print(\"Enter two numbers:\")\n",
    "r=(lambda a,b:a if a>b else b)(int(input()),int(input()))\n",
    "print(\"Greater number is \",r)"
   ]
  },
  {
   "cell_type": "code",
   "execution_count": 32,
   "metadata": {},
   "outputs": [
    {
     "name": "stdout",
     "output_type": "stream",
     "text": [
      "Factorial of 3 is:  6\n"
     ]
    }
   ],
   "source": [
    "#factorial using recursion\n",
    "def fact(n):\n",
    "    if (n==0):\n",
    "        return 1\n",
    "    else:\n",
    "        return n*fact(n-1)\n",
    "a=int(input(\"Enter the number: \"))\n",
    "r=fact(a)\n",
    "print(f\"Factorial of {a} is: \",r)\n",
    "    "
   ]
  },
  {
   "cell_type": "code",
   "execution_count": 35,
   "metadata": {},
   "outputs": [
    {
     "name": "stdout",
     "output_type": "stream",
     "text": [
      "Factorial of 3 is:  6\n"
     ]
    }
   ],
   "source": [
    "#Factorial using lambda\n",
    "s=lambda a:1 if a==0 else a*s(a-1)\n",
    "\n",
    "a=int(input(\"Enter the number: \"))\n",
    "r=s(a)\n",
    "print(f\"Factorial of {a} is: \",r)"
   ]
  },
  {
   "cell_type": "code",
   "execution_count": 6,
   "metadata": {},
   "outputs": [
    {
     "name": "stdout",
     "output_type": "stream",
     "text": [
      "First number is 45\n",
      "Second number is 23\n"
     ]
    }
   ],
   "source": [
    "#swaping without a 3rd variable\n",
    "def swap(a,b):\n",
    "    a,b=b,a\n",
    "    print(\"First number is\",a)\n",
    "    print(\"Second number is\",b)\n",
    "a=int(input(\"Enter first number: \"))\n",
    "b=int(input(\"Enter second number: \"))\n",
    "swap(a,b)\n"
   ]
  },
  {
   "cell_type": "code",
   "execution_count": 8,
   "metadata": {},
   "outputs": [
    {
     "name": "stdout",
     "output_type": "stream",
     "text": [
      "First number is 54\n",
      "Second number is 88\n"
     ]
    }
   ],
   "source": [
    "#swaping with a 3rd variable\n",
    "def swap(a,b):\n",
    "    c=a\n",
    "    a=b\n",
    "    b=c\n",
    "    print(\"First number is\",a)\n",
    "    print(\"Second number is\",b)\n",
    "a=int(input(\"Enter first number: \"))\n",
    "b=int(input(\"Enter second number: \"))\n",
    "swap(a,b)"
   ]
  },
  {
   "cell_type": "code",
   "execution_count": 37,
   "metadata": {},
   "outputs": [
    {
     "name": "stdout",
     "output_type": "stream",
     "text": [
      "Invalid attempt of input\n",
      "This is the last line of the code\n"
     ]
    }
   ],
   "source": [
    "#Try catch\n",
    "x=int(input(\"Enter the first number: \"))\n",
    "y=int(input(\"Enter the second number: \"))\n",
    "try:\n",
    "    z=x/y\n",
    "    print(\"Division result: \",z)\n",
    "except ZeroDivisionError:\n",
    "    print(\"Invalid attempt of input\")\n",
    "print(\"This is the last line of the code\")\n"
   ]
  },
  {
   "cell_type": "code",
   "execution_count": null,
   "metadata": {},
   "outputs": [
    {
     "name": "stdout",
     "output_type": "stream",
     "text": [
      "initi\n",
      "Hello\n"
     ]
    }
   ],
   "source": [
    "#Class\n",
    "class Test:\n",
    "    i=10\n",
    "\n",
    "    def __init__(self):\n",
    "        print(\"initi\")\n",
    "    def f1(self):\n",
    "        print(\"Hello\")\n",
    "t=Test()\n",
    "t.f1()\n",
    "\n"
   ]
  },
  {
   "cell_type": "code",
   "execution_count": 20,
   "metadata": {},
   "outputs": [
    {
     "name": "stdout",
     "output_type": "stream",
     "text": [
      "Name=  Priti\n",
      "Name=  20\n",
      "Roll number=  100\n"
     ]
    }
   ],
   "source": [
    "#Inheritance\n",
    "class person:\n",
    "    def __init__(self,n,a):\n",
    "        self.name=n\n",
    "        self.age=a\n",
    "    def showName(self):\n",
    "        print(\"Name= \",self.name)\n",
    "    def showAge(self):\n",
    "        print(\"Name= \",self.age)\n",
    "    \n",
    "class Student(person):\n",
    "    def __init__(self,n,a,r):\n",
    "            super().__init__(n,a)\n",
    "            self.rollno=r\n",
    "\n",
    "    def showRollno(self):\n",
    "            print(\"Roll number= \",self.rollno)\n",
    "        \n",
    "s1=Student(\"Priti\",20,100)\n",
    "s1.showName()\n",
    "s1.showAge()\n",
    "s1.showRollno()"
   ]
  }
 ],
 "metadata": {
  "kernelspec": {
   "display_name": "Python 3",
   "language": "python",
   "name": "python3"
  },
  "language_info": {
   "codemirror_mode": {
    "name": "ipython",
    "version": 3
   },
   "file_extension": ".py",
   "mimetype": "text/x-python",
   "name": "python",
   "nbconvert_exporter": "python",
   "pygments_lexer": "ipython3",
   "version": "3.12.4"
  }
 },
 "nbformat": 4,
 "nbformat_minor": 2
}
